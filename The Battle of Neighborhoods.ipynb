{
    "nbformat_minor": 1, 
    "cells": [
        {
            "source": "# The Battle of Neighborhoods by Ankur Gosar\n### Applied Data Science Capstone by IBM/Coursera", 
            "cell_type": "markdown", 
            "metadata": {
                "collapsed": true
            }
        }, 
        {
            "source": "## Table of contents\n* [Introduction: Business Problem](#introduction)\n* [Data](#data)\n* [Methodology](#methodology)\n* [Analysis](#analysis)\n* [Results and Discussion](#results)\n* [Conclusion](#conclusion)", 
            "cell_type": "markdown", 
            "metadata": {}
        }, 
        {
            "source": "\n\n## Introduction: Business Problem <a name=\"introduction\"></a>", 
            "cell_type": "markdown", 
            "metadata": {}
        }, 
        {
            "source": "In this project we will create a recommender system for alternate restaurants in **Mumbai, Maharashtra, India**. \nThe target audience of this project will be any food delivery apps like **Zomato, UberEats, FoodPanda, Swiggy** or restaurant table reservation apps like **EazyDiner, Zomato, etc.**\n\nThe aim of this project is to provide a user with a alternate restaurant options based on the target restaurant of the user when the target restaurant is not delivering at this time or there is no reservation available when they are using any of the above apps for food delivery or table reservation.\n\nWe will use our data science powers to generate a relevant recommendation to the user based on the target restaurant, distance from there, pricing, type of cuisine and average user rating. The smarter the recommendations are the more pleasant the experience will be for the user of the website or application.", 
            "cell_type": "markdown", 
            "metadata": {}
        }, 
        {
            "source": "## Data <a name=\"data\"></a>", 
            "cell_type": "markdown", 
            "metadata": {}
        }, 
        {
            "source": "Based on definition of our problem, factors that will influence our decission are:\n* number of existing restaurants in the neighborhood (any type of restaurant)\n* distance to target restaurant in the neighborhood\n* type of cuisine, picing and average user rating\n\nFollowing data sources will be needed to extract/generate the required information:\n* number of restaurants and their location in every neighborhood will be obtained using **Foursquare API**\n* type of cusine, pricing and average user rating will be obtained using venues feature of **Foursquare API**", 
            "cell_type": "markdown", 
            "metadata": {}
        }
    ], 
    "metadata": {
        "kernelspec": {
            "display_name": "Python 3.5", 
            "name": "python3", 
            "language": "python"
        }, 
        "language_info": {
            "mimetype": "text/x-python", 
            "nbconvert_exporter": "python", 
            "version": "3.5.5", 
            "name": "python", 
            "pygments_lexer": "ipython3", 
            "file_extension": ".py", 
            "codemirror_mode": {
                "version": 3, 
                "name": "ipython"
            }
        }
    }, 
    "nbformat": 4
}